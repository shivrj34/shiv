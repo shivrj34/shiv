{
  "nbformat": 4,
  "nbformat_minor": 0,
  "metadata": {
    "colab": {
      "provenance": [],
      "authorship_tag": "ABX9TyPx5dJaFO7zy80UFJJpSdJ5",
      "include_colab_link": true
    },
    "kernelspec": {
      "name": "python3",
      "display_name": "Python 3"
    },
    "language_info": {
      "name": "python"
    }
  },
  "cells": [
    {
      "cell_type": "markdown",
      "metadata": {
        "id": "view-in-github",
        "colab_type": "text"
      },
      "source": [
        "<a href=\"https://colab.research.google.com/github/shivrj34/shiv/blob/main/Untitled3.ipynb\" target=\"_parent\"><img src=\"https://colab.research.google.com/assets/colab-badge.svg\" alt=\"Open In Colab\"/></a>"
      ]
    },
    {
      "cell_type": "code",
      "execution_count": 4,
      "metadata": {
        "colab": {
          "base_uri": "https://localhost:8080/"
        },
        "id": "-Xs7mmlRUEiw",
        "outputId": "159a4eec-3737-4ccf-b045-4baf3d72a1c3"
      },
      "outputs": [
        {
          "output_type": "stream",
          "name": "stdout",
          "text": [
            "child\n"
          ]
        }
      ],
      "source": [
        "def classify_age(age):\n",
        "  if age<18:\n",
        "    return \"child\"\n",
        "  elif age<25:\n",
        "    return \"young\"\n",
        "  elif age<35:\n",
        "    return \"adult\"\n",
        "  elif age<60:\n",
        "    return \"senior\"\n",
        "  else:\n",
        "    return \"senior citizen\"\n",
        "\n",
        "print(classify_age(17))"
      ]
    }
  ]
}