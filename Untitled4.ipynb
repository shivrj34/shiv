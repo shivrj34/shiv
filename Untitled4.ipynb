{
  "nbformat": 4,
  "nbformat_minor": 0,
  "metadata": {
    "colab": {
      "provenance": [],
      "authorship_tag": "ABX9TyNZGMkOqVPaAQyxcXxLaXIn",
      "include_colab_link": true
    },
    "kernelspec": {
      "name": "python3",
      "display_name": "Python 3"
    },
    "language_info": {
      "name": "python"
    }
  },
  "cells": [
    {
      "cell_type": "markdown",
      "metadata": {
        "id": "view-in-github",
        "colab_type": "text"
      },
      "source": [
        "<a href=\"https://colab.research.google.com/github/shivrj34/shiv/blob/main/Untitled4.ipynb\" target=\"_parent\"><img src=\"https://colab.research.google.com/assets/colab-badge.svg\" alt=\"Open In Colab\"/></a>"
      ]
    },
    {
      "cell_type": "code",
      "execution_count": 5,
      "metadata": {
        "colab": {
          "base_uri": "https://localhost:8080/"
        },
        "id": "PmoJNhAAiTvF",
        "outputId": "c4e24eea-83a6-406f-f5d0-17f2339fe957"
      },
      "outputs": [
        {
          "output_type": "stream",
          "name": "stdout",
          "text": [
            "{'e': 2, 'o': 1, 'u': 1}\n"
          ]
        }
      ],
      "source": [
        "# count vowels in a different way\n",
        "# using dictionary\n",
        "def check_vow(string, vowels):\n",
        "\n",
        "    #casefold has been used to ignore cases\n",
        "    string = string.casefold()\n",
        "    count = {}.fromkeys(vowels, 0)\n",
        "    for char in string:\n",
        "        if char in count:\n",
        "            count[char] += 1\n",
        "    return count\n",
        "# driver code\n",
        "vowels = 'eou'\n",
        "string = \"hey tushar hello\"\n",
        "print(check_vow(string, vowels))"
      ]
    }
  ]
}