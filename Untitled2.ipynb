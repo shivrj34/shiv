{
  "nbformat": 4,
  "nbformat_minor": 0,
  "metadata": {
    "colab": {
      "provenance": [],
      "authorship_tag": "ABX9TyNoh5b7jvS7/Mq1qPAR2uqy",
      "include_colab_link": true
    },
    "kernelspec": {
      "name": "python3",
      "display_name": "Python 3"
    },
    "language_info": {
      "name": "python"
    }
  },
  "cells": [
    {
      "cell_type": "markdown",
      "metadata": {
        "id": "view-in-github",
        "colab_type": "text"
      },
      "source": [
        "<a href=\"https://colab.research.google.com/github/shivrj34/shiv/blob/main/Untitled2.ipynb\" target=\"_parent\"><img src=\"https://colab.research.google.com/assets/colab-badge.svg\" alt=\"Open In Colab\"/></a>"
      ]
    },
    {
      "cell_type": "code",
      "execution_count": 2,
      "metadata": {
        "colab": {
          "base_uri": "https://localhost:8080/"
        },
        "id": "4piiITcORCIx",
        "outputId": "c9cc3509-f441-4db0-ea07-1d62c7f87a3d"
      },
      "outputs": [
        {
          "output_type": "stream",
          "name": "stdout",
          "text": [
            "*****\n",
            "  *\n",
            "  *\n",
            "  *\n",
            "  *\n"
          ]
        }
      ],
      "source": [
        "def print_t(n):\n",
        "  for i in range(1,n+1):\n",
        "    if i==1:\n",
        "      print(\"*\" * n)\n",
        "    else:\n",
        "      print(\" \" * ((n-1)//2) + \"*\")\n",
        "print_t(5)"
      ]
    },
    {
      "cell_type": "code",
      "source": [
        "n = 3 #number of rows\n",
        "\n",
        "for i in range(n):\n",
        "  print(' ' * (n-i-1) + '*' * (2*i+1))"
      ],
      "metadata": {
        "colab": {
          "base_uri": "https://localhost:8080/"
        },
        "id": "-FOMzPPncF4I",
        "outputId": "903643b9-cf4c-450b-db54-1f21b08b2238"
      },
      "execution_count": 9,
      "outputs": [
        {
          "output_type": "stream",
          "name": "stdout",
          "text": [
            "  *\n",
            " ***\n",
            "*****\n"
          ]
        }
      ]
    }
  ]
}